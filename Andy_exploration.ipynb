{
 "cells": [
  {
   "cell_type": "code",
   "execution_count": 441,
   "metadata": {},
   "outputs": [],
   "source": [
    "import numpy as np\n",
    "import pandas as pd\n",
    "import matplotlib.pyplot as plt\n",
    "from sklearn.decomposition import PCA\n",
    "from scipy import stats\n",
    "from sklearn.ensemble import RandomForestRegressor# Instantiate model with 1000 decision trees\n",
    "rf = RandomForestRegressor(n_estimators = 1000, random_state = 42)"
   ]
  },
  {
   "cell_type": "code",
   "execution_count": 304,
   "metadata": {},
   "outputs": [],
   "source": [
    "def get_missing(df):\n",
    "    missing = df.isna().sum()\n",
    "    missing /= df.shape[0]\n",
    "    missing *=100\n",
    "    missing = missing.to_frame().rename(columns={0:'Percent Of Missing Values'})\n",
    "    return missing\n"
   ]
  },
  {
   "cell_type": "code",
   "execution_count": 308,
   "metadata": {},
   "outputs": [],
   "source": [
    "filepath = \"datasets/Institutional Finances/F_F2_1415-1920_data.csv\"\n",
    "institutional_finance = pd.read_csv(filepath, index_col=0, low_memory= False)\n",
    "missing = institutional_finance.isna().sum()\n",
    "missing /= institutional_finance.shape[0]\n",
    "missing *=100\n",
    "missing = missing.to_frame().rename(columns={0:'Percent Of Missing Values'})\n",
    "threshold = 30\n",
    "institutional_finance_over_threshold_missing = institutional_finance[(missing[missing[\"Percent Of Missing Values\"] < threshold]).index]\n",
    "missing = institutional_finance_over_threshold_missing.isna().sum()\n",
    "missing /= institutional_finance_over_threshold_missing.shape[0]\n",
    "missing *=100\n",
    "missing = missing.to_frame().rename(columns={0:'Percent Of Missing Values'})\n",
    "# All missing entries with percent missing > 7 are verifiably 0 imputable\n",
    "missing_keys = (missing[missing[\"Percent Of Missing Values\"] > 7]).index\n",
    "imputation_dict = {k: 0 for k in missing_keys}\n",
    "\n",
    "cleaned_institutional_finance = institutional_finance_over_threshold_missing.fillna(imputation_dict)\n",
    "\n",
    "# Remaining missing values are mean imputed -- very small fraction of rows in any case\n",
    "num_cols = cleaned_institutional_finance.columns[cleaned_institutional_finance.dtypes.values != 'object']\n",
    "cleaned_institutional_finance = institutional_finance_over_threshold_missing.fillna(value=cleaned_institutional_finance[num_cols].mean())\n",
    "cleaned_institutional_finance = cleaned_institutional_finance[num_cols]\n",
    "cleaned_institutional_finance.drop(columns= \"f2d17\", inplace = True)\n",
    "sigma_threshold = 2\n",
    "cleaned_institutional_finance_no_outliers = cleaned_institutional_finance[(np.abs(stats.zscore(cleaned_institutional_finance)) < sigma_threshold).all(axis=1)]\n",
    "\n",
    "fnce_data_unique = cleaned_institutional_finance_no_outliers.groupby(['unitid']).mean().reset_index()\n"
   ]
  },
  {
   "cell_type": "code",
   "execution_count": 625,
   "metadata": {},
   "outputs": [],
   "source": [
    "fnce_data_final = fnce_data_unique.drop(['year'], axis = 1)"
   ]
  },
  {
   "cell_type": "code",
   "execution_count": 613,
   "metadata": {},
   "outputs": [],
   "source": [
    "train_features = fnce_data_final.drop(['unitid'], axis = 1)\n",
    "model = PCA(n_components=train_features.shape[1]).fit(train_features)\n",
    "X_pc = model.transform(train_features)\n",
    "\n",
    "# number of components\n",
    "n_pcs= model.components_.shape[0]\n",
    "\n",
    "# get the index of the most important feature on EACH component\n",
    "# LIST COMPREHENSION HERE\n",
    "most_important = [np.abs(model.components_[i]).argmax() for i in range(n_pcs)]\n",
    "\n",
    "initial_feature_names = train_features.columns\n",
    "# get the names\n",
    "most_important_names = [initial_feature_names[most_important[i]] for i in range(n_pcs)]\n",
    "\n",
    "# LIST COMPREHENSION HERE AGAIN\n",
    "dic = {'PC{}'.format(i): most_important_names[i] for i in range(n_pcs)}\n",
    "expenses = ['unitid']\n",
    "seen_categories = ['13']\n",
    "for i in range(n_pcs):\n",
    "    most_important_name = most_important_names[i]\n",
    "    category = most_important_name[3:5]\n",
    "\n",
    "    if 'e' in most_important_name and most_important_name != 'unitid' and most_important_name not in expenses and category not in seen_categories:\n",
    "        # print(f\"name: {most_important_name}, cat: {category}\")\n",
    "        expenses.append(most_important_name)\n",
    "        seen_categories.append(category)\n",
    "# expenses.append('unitid')\n",
    "expenses = np.array(expenses)\n",
    "\n"
   ]
  },
  {
   "cell_type": "code",
   "execution_count": 432,
   "metadata": {},
   "outputs": [
    {
     "data": {
      "text/plain": [
       "array(['f2e011', 'f2e061', 'f2e137', 'f2e051', 'f2e071', 'f2e121',\n",
       "       'f2e031', 'f2e021', 'f2e101', 'f2e081', 'f2e042', 'f2e092',\n",
       "       'unitid'], dtype='<U6')"
      ]
     },
     "execution_count": 432,
     "metadata": {},
     "output_type": "execute_result"
    }
   ],
   "source": [
    "expenses"
   ]
  },
  {
   "cell_type": "code",
   "execution_count": 626,
   "metadata": {},
   "outputs": [],
   "source": [
    "fnce_data_final_features = fnce_data_final[expenses]\n",
    "for c in fnce_data_final_features.columns:\n",
    "    if c != 'unitid':\n",
    "        fnce_data_final_features[c] /= fnce_data_final['f2e131']"
   ]
  },
  {
   "cell_type": "code",
   "execution_count": 627,
   "metadata": {},
   "outputs": [],
   "source": [
    "for c in fnce_data_final_features.columns:\n",
    "    if c!= 'unitid':\n",
    "        fnce_data_final_features = fnce_data_final_features[fnce_data_final_features[c] < 1]\n"
   ]
  },
  {
   "cell_type": "code",
   "execution_count": 628,
   "metadata": {},
   "outputs": [
    {
     "data": {
      "text/plain": [
       "0       100690\n",
       "1       100937\n",
       "2       101073\n",
       "3       101189\n",
       "4       101365\n",
       "         ...  \n",
       "1837    495059\n",
       "1840    495192\n",
       "1843    495280\n",
       "1844    495314\n",
       "1845    495916\n",
       "Name: unitid, Length: 1566, dtype: int64"
      ]
     },
     "execution_count": 628,
     "metadata": {},
     "output_type": "execute_result"
    }
   ],
   "source": [
    "fnce_data_final_features['unitid']"
   ]
  },
  {
   "cell_type": "code",
   "execution_count": 53,
   "metadata": {},
   "outputs": [
    {
     "data": {
      "text/html": [
       "<div>\n",
       "<style scoped>\n",
       "    .dataframe tbody tr th:only-of-type {\n",
       "        vertical-align: middle;\n",
       "    }\n",
       "\n",
       "    .dataframe tbody tr th {\n",
       "        vertical-align: top;\n",
       "    }\n",
       "\n",
       "    .dataframe thead th {\n",
       "        text-align: right;\n",
       "    }\n",
       "</style>\n",
       "<table border=\"1\" class=\"dataframe\">\n",
       "  <thead>\n",
       "    <tr style=\"text-align: right;\">\n",
       "      <th></th>\n",
       "      <th>unitid</th>\n",
       "      <th>f2a01</th>\n",
       "      <th>f2a02</th>\n",
       "      <th>f2a03</th>\n",
       "      <th>f2a03a</th>\n",
       "      <th>f2a04</th>\n",
       "      <th>f2a05</th>\n",
       "      <th>f2a05a</th>\n",
       "      <th>f2a05b</th>\n",
       "      <th>f2a06</th>\n",
       "      <th>...</th>\n",
       "      <th>f2e122</th>\n",
       "      <th>f2e131</th>\n",
       "      <th>f2e132</th>\n",
       "      <th>f2e133</th>\n",
       "      <th>f2e134</th>\n",
       "      <th>f2e135</th>\n",
       "      <th>f2e136</th>\n",
       "      <th>f2e137</th>\n",
       "      <th>f2h01</th>\n",
       "      <th>f2c10</th>\n",
       "    </tr>\n",
       "  </thead>\n",
       "  <tbody>\n",
       "    <tr>\n",
       "      <th>0</th>\n",
       "      <td>100690</td>\n",
       "      <td>8.760923e+06</td>\n",
       "      <td>1.307510e+07</td>\n",
       "      <td>2.535914e+06</td>\n",
       "      <td>1.508292e+06</td>\n",
       "      <td>9.889659e+06</td>\n",
       "      <td>6.495275e+05</td>\n",
       "      <td>1.748072e+05</td>\n",
       "      <td>4.747203e+05</td>\n",
       "      <td>1.053919e+07</td>\n",
       "      <td>...</td>\n",
       "      <td>0.000000</td>\n",
       "      <td>7385488.0</td>\n",
       "      <td>3.845044e+06</td>\n",
       "      <td>586241.5</td>\n",
       "      <td>1.436238e+05</td>\n",
       "      <td>1.294402e+05</td>\n",
       "      <td>97263.0</td>\n",
       "      <td>2.583876e+06</td>\n",
       "      <td>1.748045e+05</td>\n",
       "      <td>3.622754e+06</td>\n",
       "    </tr>\n",
       "    <tr>\n",
       "      <th>1</th>\n",
       "      <td>100937</td>\n",
       "      <td>5.235002e+07</td>\n",
       "      <td>1.722822e+08</td>\n",
       "      <td>5.624674e+07</td>\n",
       "      <td>3.738436e+07</td>\n",
       "      <td>5.059348e+07</td>\n",
       "      <td>6.544197e+07</td>\n",
       "      <td>4.314847e+07</td>\n",
       "      <td>2.229350e+07</td>\n",
       "      <td>1.160355e+08</td>\n",
       "      <td>...</td>\n",
       "      <td>0.166667</td>\n",
       "      <td>46392031.5</td>\n",
       "      <td>1.820079e+07</td>\n",
       "      <td>4195823.5</td>\n",
       "      <td>4.335043e+06</td>\n",
       "      <td>3.221013e+06</td>\n",
       "      <td>2211438.5</td>\n",
       "      <td>1.422793e+07</td>\n",
       "      <td>5.656075e+07</td>\n",
       "      <td>2.076610e+07</td>\n",
       "    </tr>\n",
       "    <tr>\n",
       "      <th>2</th>\n",
       "      <td>101073</td>\n",
       "      <td>1.404627e+06</td>\n",
       "      <td>1.362275e+07</td>\n",
       "      <td>4.539956e+06</td>\n",
       "      <td>0.000000e+00</td>\n",
       "      <td>6.643169e+06</td>\n",
       "      <td>2.439628e+06</td>\n",
       "      <td>1.393872e+06</td>\n",
       "      <td>1.045756e+06</td>\n",
       "      <td>9.082797e+06</td>\n",
       "      <td>...</td>\n",
       "      <td>0.000000</td>\n",
       "      <td>10922549.0</td>\n",
       "      <td>2.847217e+06</td>\n",
       "      <td>664789.0</td>\n",
       "      <td>7.551130e+05</td>\n",
       "      <td>7.050923e+05</td>\n",
       "      <td>0.0</td>\n",
       "      <td>5.950338e+06</td>\n",
       "      <td>1.338949e+06</td>\n",
       "      <td>7.203375e+06</td>\n",
       "    </tr>\n",
       "    <tr>\n",
       "      <th>3</th>\n",
       "      <td>101189</td>\n",
       "      <td>2.055781e+07</td>\n",
       "      <td>8.991518e+07</td>\n",
       "      <td>4.270119e+07</td>\n",
       "      <td>3.311000e+07</td>\n",
       "      <td>2.931309e+07</td>\n",
       "      <td>1.790090e+07</td>\n",
       "      <td>1.260574e+07</td>\n",
       "      <td>5.295168e+06</td>\n",
       "      <td>4.721399e+07</td>\n",
       "      <td>...</td>\n",
       "      <td>0.000000</td>\n",
       "      <td>43958975.4</td>\n",
       "      <td>1.907465e+07</td>\n",
       "      <td>3718710.4</td>\n",
       "      <td>3.581797e+06</td>\n",
       "      <td>2.692246e+06</td>\n",
       "      <td>1182462.4</td>\n",
       "      <td>1.370911e+07</td>\n",
       "      <td>1.840186e+07</td>\n",
       "      <td>1.380247e+07</td>\n",
       "    </tr>\n",
       "    <tr>\n",
       "      <th>4</th>\n",
       "      <td>101365</td>\n",
       "      <td>0.000000e+00</td>\n",
       "      <td>8.337251e+06</td>\n",
       "      <td>3.799330e+06</td>\n",
       "      <td>0.000000e+00</td>\n",
       "      <td>4.537922e+06</td>\n",
       "      <td>0.000000e+00</td>\n",
       "      <td>0.000000e+00</td>\n",
       "      <td>0.000000e+00</td>\n",
       "      <td>4.537922e+06</td>\n",
       "      <td>...</td>\n",
       "      <td>42160.500000</td>\n",
       "      <td>5469523.5</td>\n",
       "      <td>2.198460e+06</td>\n",
       "      <td>411450.5</td>\n",
       "      <td>1.899160e+05</td>\n",
       "      <td>8.263625e+04</td>\n",
       "      <td>0.0</td>\n",
       "      <td>2.587061e+06</td>\n",
       "      <td>2.224978e+08</td>\n",
       "      <td>1.017367e+06</td>\n",
       "    </tr>\n",
       "    <tr>\n",
       "      <th>...</th>\n",
       "      <td>...</td>\n",
       "      <td>...</td>\n",
       "      <td>...</td>\n",
       "      <td>...</td>\n",
       "      <td>...</td>\n",
       "      <td>...</td>\n",
       "      <td>...</td>\n",
       "      <td>...</td>\n",
       "      <td>...</td>\n",
       "      <td>...</td>\n",
       "      <td>...</td>\n",
       "      <td>...</td>\n",
       "      <td>...</td>\n",
       "      <td>...</td>\n",
       "      <td>...</td>\n",
       "      <td>...</td>\n",
       "      <td>...</td>\n",
       "      <td>...</td>\n",
       "      <td>...</td>\n",
       "      <td>...</td>\n",
       "      <td>...</td>\n",
       "    </tr>\n",
       "    <tr>\n",
       "      <th>1673</th>\n",
       "      <td>495192</td>\n",
       "      <td>0.000000e+00</td>\n",
       "      <td>1.167080e+07</td>\n",
       "      <td>1.727437e+06</td>\n",
       "      <td>0.000000e+00</td>\n",
       "      <td>1.317455e+06</td>\n",
       "      <td>8.625911e+06</td>\n",
       "      <td>0.000000e+00</td>\n",
       "      <td>8.625911e+06</td>\n",
       "      <td>9.943366e+06</td>\n",
       "      <td>...</td>\n",
       "      <td>0.000000</td>\n",
       "      <td>7871324.0</td>\n",
       "      <td>2.925835e+06</td>\n",
       "      <td>722966.0</td>\n",
       "      <td>0.000000e+00</td>\n",
       "      <td>0.000000e+00</td>\n",
       "      <td>882.0</td>\n",
       "      <td>4.221641e+06</td>\n",
       "      <td>2.224978e+08</td>\n",
       "      <td>1.066775e+06</td>\n",
       "    </tr>\n",
       "    <tr>\n",
       "      <th>1674</th>\n",
       "      <td>495226</td>\n",
       "      <td>2.726673e+08</td>\n",
       "      <td>4.611618e+08</td>\n",
       "      <td>1.300061e+08</td>\n",
       "      <td>6.749763e+07</td>\n",
       "      <td>1.515092e+08</td>\n",
       "      <td>1.796464e+08</td>\n",
       "      <td>7.699077e+07</td>\n",
       "      <td>1.026557e+08</td>\n",
       "      <td>3.311557e+08</td>\n",
       "      <td>...</td>\n",
       "      <td>0.000000</td>\n",
       "      <td>50382.0</td>\n",
       "      <td>0.000000e+00</td>\n",
       "      <td>0.0</td>\n",
       "      <td>3.713200e+04</td>\n",
       "      <td>0.000000e+00</td>\n",
       "      <td>0.0</td>\n",
       "      <td>1.325000e+04</td>\n",
       "      <td>2.224978e+08</td>\n",
       "      <td>0.000000e+00</td>\n",
       "    </tr>\n",
       "    <tr>\n",
       "      <th>1675</th>\n",
       "      <td>495271</td>\n",
       "      <td>0.000000e+00</td>\n",
       "      <td>1.084680e+06</td>\n",
       "      <td>0.000000e+00</td>\n",
       "      <td>0.000000e+00</td>\n",
       "      <td>1.069680e+06</td>\n",
       "      <td>1.500000e+04</td>\n",
       "      <td>0.000000e+00</td>\n",
       "      <td>1.500000e+04</td>\n",
       "      <td>1.084680e+06</td>\n",
       "      <td>...</td>\n",
       "      <td>0.000000</td>\n",
       "      <td>1276977.0</td>\n",
       "      <td>8.107730e+05</td>\n",
       "      <td>66694.0</td>\n",
       "      <td>0.000000e+00</td>\n",
       "      <td>0.000000e+00</td>\n",
       "      <td>0.0</td>\n",
       "      <td>3.995100e+05</td>\n",
       "      <td>2.224978e+08</td>\n",
       "      <td>0.000000e+00</td>\n",
       "    </tr>\n",
       "    <tr>\n",
       "      <th>1676</th>\n",
       "      <td>495280</td>\n",
       "      <td>7.725700e+04</td>\n",
       "      <td>2.024860e+06</td>\n",
       "      <td>1.228340e+05</td>\n",
       "      <td>9.407800e+04</td>\n",
       "      <td>1.699223e+06</td>\n",
       "      <td>2.028030e+05</td>\n",
       "      <td>0.000000e+00</td>\n",
       "      <td>2.028030e+05</td>\n",
       "      <td>1.902026e+06</td>\n",
       "      <td>...</td>\n",
       "      <td>0.000000</td>\n",
       "      <td>1001533.0</td>\n",
       "      <td>5.477880e+05</td>\n",
       "      <td>24345.0</td>\n",
       "      <td>9.494600e+04</td>\n",
       "      <td>4.147800e+04</td>\n",
       "      <td>5151.0</td>\n",
       "      <td>2.878250e+05</td>\n",
       "      <td>2.224978e+08</td>\n",
       "      <td>5.052500e+04</td>\n",
       "    </tr>\n",
       "    <tr>\n",
       "      <th>1677</th>\n",
       "      <td>495916</td>\n",
       "      <td>0.000000e+00</td>\n",
       "      <td>2.890460e+05</td>\n",
       "      <td>1.864020e+05</td>\n",
       "      <td>0.000000e+00</td>\n",
       "      <td>1.026440e+05</td>\n",
       "      <td>0.000000e+00</td>\n",
       "      <td>0.000000e+00</td>\n",
       "      <td>0.000000e+00</td>\n",
       "      <td>1.026440e+05</td>\n",
       "      <td>...</td>\n",
       "      <td>0.000000</td>\n",
       "      <td>831762.0</td>\n",
       "      <td>3.109200e+05</td>\n",
       "      <td>26508.0</td>\n",
       "      <td>1.296700e+04</td>\n",
       "      <td>0.000000e+00</td>\n",
       "      <td>23574.0</td>\n",
       "      <td>4.577930e+05</td>\n",
       "      <td>2.224978e+08</td>\n",
       "      <td>1.793700e+04</td>\n",
       "    </tr>\n",
       "  </tbody>\n",
       "</table>\n",
       "<p>1678 rows × 138 columns</p>\n",
       "</div>"
      ],
      "text/plain": [
       "      unitid         f2a01         f2a02         f2a03        f2a03a  \\\n",
       "0     100690  8.760923e+06  1.307510e+07  2.535914e+06  1.508292e+06   \n",
       "1     100937  5.235002e+07  1.722822e+08  5.624674e+07  3.738436e+07   \n",
       "2     101073  1.404627e+06  1.362275e+07  4.539956e+06  0.000000e+00   \n",
       "3     101189  2.055781e+07  8.991518e+07  4.270119e+07  3.311000e+07   \n",
       "4     101365  0.000000e+00  8.337251e+06  3.799330e+06  0.000000e+00   \n",
       "...      ...           ...           ...           ...           ...   \n",
       "1673  495192  0.000000e+00  1.167080e+07  1.727437e+06  0.000000e+00   \n",
       "1674  495226  2.726673e+08  4.611618e+08  1.300061e+08  6.749763e+07   \n",
       "1675  495271  0.000000e+00  1.084680e+06  0.000000e+00  0.000000e+00   \n",
       "1676  495280  7.725700e+04  2.024860e+06  1.228340e+05  9.407800e+04   \n",
       "1677  495916  0.000000e+00  2.890460e+05  1.864020e+05  0.000000e+00   \n",
       "\n",
       "             f2a04         f2a05        f2a05a        f2a05b         f2a06  \\\n",
       "0     9.889659e+06  6.495275e+05  1.748072e+05  4.747203e+05  1.053919e+07   \n",
       "1     5.059348e+07  6.544197e+07  4.314847e+07  2.229350e+07  1.160355e+08   \n",
       "2     6.643169e+06  2.439628e+06  1.393872e+06  1.045756e+06  9.082797e+06   \n",
       "3     2.931309e+07  1.790090e+07  1.260574e+07  5.295168e+06  4.721399e+07   \n",
       "4     4.537922e+06  0.000000e+00  0.000000e+00  0.000000e+00  4.537922e+06   \n",
       "...            ...           ...           ...           ...           ...   \n",
       "1673  1.317455e+06  8.625911e+06  0.000000e+00  8.625911e+06  9.943366e+06   \n",
       "1674  1.515092e+08  1.796464e+08  7.699077e+07  1.026557e+08  3.311557e+08   \n",
       "1675  1.069680e+06  1.500000e+04  0.000000e+00  1.500000e+04  1.084680e+06   \n",
       "1676  1.699223e+06  2.028030e+05  0.000000e+00  2.028030e+05  1.902026e+06   \n",
       "1677  1.026440e+05  0.000000e+00  0.000000e+00  0.000000e+00  1.026440e+05   \n",
       "\n",
       "      ...        f2e122      f2e131        f2e132     f2e133        f2e134  \\\n",
       "0     ...      0.000000   7385488.0  3.845044e+06   586241.5  1.436238e+05   \n",
       "1     ...      0.166667  46392031.5  1.820079e+07  4195823.5  4.335043e+06   \n",
       "2     ...      0.000000  10922549.0  2.847217e+06   664789.0  7.551130e+05   \n",
       "3     ...      0.000000  43958975.4  1.907465e+07  3718710.4  3.581797e+06   \n",
       "4     ...  42160.500000   5469523.5  2.198460e+06   411450.5  1.899160e+05   \n",
       "...   ...           ...         ...           ...        ...           ...   \n",
       "1673  ...      0.000000   7871324.0  2.925835e+06   722966.0  0.000000e+00   \n",
       "1674  ...      0.000000     50382.0  0.000000e+00        0.0  3.713200e+04   \n",
       "1675  ...      0.000000   1276977.0  8.107730e+05    66694.0  0.000000e+00   \n",
       "1676  ...      0.000000   1001533.0  5.477880e+05    24345.0  9.494600e+04   \n",
       "1677  ...      0.000000    831762.0  3.109200e+05    26508.0  1.296700e+04   \n",
       "\n",
       "            f2e135     f2e136        f2e137         f2h01         f2c10  \n",
       "0     1.294402e+05    97263.0  2.583876e+06  1.748045e+05  3.622754e+06  \n",
       "1     3.221013e+06  2211438.5  1.422793e+07  5.656075e+07  2.076610e+07  \n",
       "2     7.050923e+05        0.0  5.950338e+06  1.338949e+06  7.203375e+06  \n",
       "3     2.692246e+06  1182462.4  1.370911e+07  1.840186e+07  1.380247e+07  \n",
       "4     8.263625e+04        0.0  2.587061e+06  2.224978e+08  1.017367e+06  \n",
       "...            ...        ...           ...           ...           ...  \n",
       "1673  0.000000e+00      882.0  4.221641e+06  2.224978e+08  1.066775e+06  \n",
       "1674  0.000000e+00        0.0  1.325000e+04  2.224978e+08  0.000000e+00  \n",
       "1675  0.000000e+00        0.0  3.995100e+05  2.224978e+08  0.000000e+00  \n",
       "1676  4.147800e+04     5151.0  2.878250e+05  2.224978e+08  5.052500e+04  \n",
       "1677  0.000000e+00    23574.0  4.577930e+05  2.224978e+08  1.793700e+04  \n",
       "\n",
       "[1678 rows x 138 columns]"
      ]
     },
     "execution_count": 53,
     "metadata": {},
     "output_type": "execute_result"
    }
   ],
   "source": [
    "# possible_unitids = pd.read_csv(\"datasets/IC_CLUSTERS_AND_MCA.csv\")\n",
    "# fnce_data = pd.merge(fnce_data, possible_unitids[['unitid']], on = 'unitid', how = 'inner').drop(['year'], axis = 1)\n"
   ]
  },
  {
   "cell_type": "code",
   "execution_count": 317,
   "metadata": {},
   "outputs": [],
   "source": []
  },
  {
   "cell_type": "code",
   "execution_count": 320,
   "metadata": {},
   "outputs": [],
   "source": [
    "fin_aid_orig = pd.read_csv(\"datasets/Student Financial Aid/SFA_1415-2021_data.csv\")\n"
   ]
  },
  {
   "cell_type": "code",
   "execution_count": 342,
   "metadata": {},
   "outputs": [],
   "source": [
    "target = 'uagrntn'"
   ]
  },
  {
   "cell_type": "code",
   "execution_count": 447,
   "metadata": {},
   "outputs": [],
   "source": [
    "def test(X, y):\n",
    "    # if np.count_nonzero(y == 0) > 0:\n",
    "    #     lr = LinearRegression().fit(X, y)\n",
    "    #     print(lr.score(X,y))\n",
    "    # else:\n",
    "    offset = int(X.shape[0] * 0.85)\n",
    "    X_train, y_train = X[:offset], y[:offset]\n",
    "    X_test, y_test = X[offset:], y[offset:]\n",
    "    reg = LazyRegressor(verbose=1, ignore_warnings=True, custom_metric=None)\n",
    "    models, predictions = reg.fit(X_train, X_test, y_train, y_test)\n",
    "    print(models)\n"
   ]
  },
  {
   "cell_type": "code",
   "execution_count": 629,
   "metadata": {},
   "outputs": [
    {
     "data": {
      "text/plain": [
       "0       100690\n",
       "1       100937\n",
       "2       101073\n",
       "3       101189\n",
       "4       101365\n",
       "         ...  \n",
       "1837    495059\n",
       "1840    495192\n",
       "1843    495280\n",
       "1844    495314\n",
       "1845    495916\n",
       "Name: unitid, Length: 1566, dtype: int64"
      ]
     },
     "execution_count": 629,
     "metadata": {},
     "output_type": "execute_result"
    }
   ],
   "source": [
    "fnce_data_final_features['unitid']"
   ]
  },
  {
   "cell_type": "code",
   "execution_count": 630,
   "metadata": {},
   "outputs": [],
   "source": [
    "total_students = pd.read_csv(\"datasets/12-Month Enrollment/EFFY_2015-2021_data.csv\")\n",
    "total_students = total_students.groupby('unitid').mean().reset_index()\n"
   ]
  },
  {
   "cell_type": "code",
   "execution_count": 631,
   "metadata": {},
   "outputs": [],
   "source": [
    "total_students = total_students[['unitid', 'efytotlt']]"
   ]
  },
  {
   "cell_type": "code",
   "execution_count": null,
   "metadata": {},
   "outputs": [],
   "source": []
  },
  {
   "cell_type": "code",
   "execution_count": 632,
   "metadata": {},
   "outputs": [],
   "source": [
    "def test_set(datapath, target, second = None, div_by_student = True, div_by_expense = True):\n",
    "    df = pd.read_csv(datapath, low_memory=False)\n",
    "    print(target)\n",
    "    df_subset = df[['unitid', target]]\n",
    "    df_subset.dropna(inplace=True, axis = 0)\n",
    "    print(df_subset.shape)\n",
    "    df_subset = df_subset.groupby('unitid').mean().reset_index()\n",
    "    if second != None:\n",
    "        df_subset[target] /= df[second]\n",
    "        df_subset = df_subset.drop([second], axis=1)\n",
    "    if div_by_student:\n",
    "        df_subset = pd.merge(df_subset, total_students, how='inner', on='unitid')\n",
    "        df_subset[target] /= df_subset['efytotlt']\n",
    "        df_subset = df_subset.drop(['efytotlt'], axis = 1)\n",
    "    if div_by_expense:\n",
    "        expenses = fnce_data_final[['f2e131', 'unitid']]\n",
    "        df_subset = pd.merge(df_subset, expenses, on='unitid', how='inner')\n",
    "        print(df_subset.columns)\n",
    "        df_subset[target] /= df_subset['f2e131']\n",
    "        print(df_subset.shape)\n",
    "        df_subset = df_subset.drop(['f2e131'], axis = 1)\n",
    "    print(df_subset['unitid'])\n",
    "    merged = pd.merge(df_subset, fnce_data_final_features, how='inner', on='unitid')\n",
    "    print(merged.shape)\n",
    "    print(get_missing(merged))\n",
    "    merged.dropna(inplace=True)\n",
    "    X = merged.drop(['unitid', target], axis = 1)\n",
    "    y = np.array(merged[target])\n",
    "    # y[np.array(np.where(y ==0))] = 1e-9\n",
    "    print(f\"X shape: {X.shape}, y shape: {y.shape}\")\n",
    "    test(X, y)\n"
   ]
  },
  {
   "cell_type": "code",
   "execution_count": 425,
   "metadata": {},
   "outputs": [],
   "source": [
    "from sklearn.linear_model import LinearRegression"
   ]
  },
  {
   "cell_type": "code",
   "execution_count": 638,
   "metadata": {},
   "outputs": [
    {
     "name": "stdout",
     "output_type": "stream",
     "text": [
      "actcm75\n",
      "(8460, 2)\n",
      "0       100654\n",
      "1       100663\n",
      "2       100706\n",
      "3       100724\n",
      "4       100751\n",
      "         ...  \n",
      "1437    489937\n",
      "1438    490179\n",
      "1439    490805\n",
      "1440    494603\n",
      "1441    495767\n",
      "Name: unitid, Length: 1442, dtype: int64\n",
      "(739, 13)\n",
      "         Percent Of Missing Values\n",
      "unitid                        0.00\n",
      "actcm75                       0.00\n",
      "f2e011                        0.00\n",
      "f2e061                        0.00\n",
      "f2e051                        0.00\n",
      "f2e071                        0.00\n",
      "f2e121                        0.00\n",
      "f2e031                        0.00\n",
      "f2e021                        0.00\n",
      "f2e101                        0.00\n",
      "f2e081                        0.00\n",
      "f2e042                        0.00\n",
      "f2e092                        0.00\n",
      "X shape: (739, 11), y shape: (739,)\n"
     ]
    },
    {
     "name": "stderr",
     "output_type": "stream",
     "text": [
      "  2%|▏         | 1/42 [00:00<00:05,  6.92it/s]"
     ]
    },
    {
     "name": "stdout",
     "output_type": "stream",
     "text": [
      "{'Model': 'AdaBoostRegressor', 'R-Squared': 0.028111217828019508, 'Adjusted R-Squared': -0.0798764246355339, 'RMSE': 3.670230811104469, 'Time taken': 0.14453649520874023}\n"
     ]
    },
    {
     "name": "stderr",
     "output_type": "stream",
     "text": [
      " 17%|█▋        | 7/42 [00:00<00:01, 26.14it/s]"
     ]
    },
    {
     "name": "stdout",
     "output_type": "stream",
     "text": [
      "{'Model': 'BaggingRegressor', 'R-Squared': -0.04646536718215155, 'Adjusted R-Squared': -0.1627392968690573, 'RMSE': 3.808443543678789, 'Time taken': 0.05385899543762207}\n",
      "{'Model': 'BayesianRidge', 'R-Squared': 0.0484153496304317, 'Adjusted R-Squared': -0.05731627818840934, 'RMSE': 3.631690299848817, 'Time taken': 0.008973121643066406}\n",
      "{'Model': 'DecisionTreeRegressor', 'R-Squared': -0.44838022142113987, 'Adjusted R-Squared': -0.6093113571345998, 'RMSE': 4.480499001213069, 'Time taken': 0.01265096664428711}\n",
      "{'Model': 'DummyRegressor', 'R-Squared': -0.002806179757577132, 'Adjusted R-Squared': -0.1142290886195303, 'RMSE': 3.7281518475838915, 'Time taken': 0.0080108642578125}\n",
      "{'Model': 'ElasticNet', 'R-Squared': 0.09366308967426307, 'Adjusted R-Squared': -0.007041011473041037, 'RMSE': 3.544295517508235, 'Time taken': 0.005984783172607422}\n",
      "{'Model': 'ElasticNetCV', 'R-Squared': 0.08515254367248248, 'Adjusted R-Squared': -0.016497173697241685, 'RMSE': 3.56089718634389, 'Time taken': 0.06264495849609375}\n",
      "{'Model': 'ExtraTreeRegressor', 'R-Squared': -0.3503415004198107, 'Adjusted R-Squared': -0.5003794449109009, 'RMSE': 4.326203054596987, 'Time taken': 0.010517358779907227}\n"
     ]
    },
    {
     "name": "stderr",
     "output_type": "stream",
     "text": [
      " 24%|██▍       | 10/42 [00:00<00:01, 17.20it/s]"
     ]
    },
    {
     "name": "stdout",
     "output_type": "stream",
     "text": [
      "{'Model': 'ExtraTreesRegressor', 'R-Squared': 0.08711041232854444, 'Adjusted R-Squared': -0.014321764079395116, 'RMSE': 3.5570848004566744, 'Time taken': 0.24015164375305176}\n",
      "{'Model': 'GammaRegressor', 'R-Squared': 0.0583247984721279, 'Adjusted R-Squared': -0.04630577947541359, 'RMSE': 3.6127312761844275, 'Time taken': 0.01592230796813965}\n",
      "{'Model': 'GaussianProcessRegressor', 'R-Squared': -10.50557064781465, 'Adjusted R-Squared': -11.783967386460724, 'RMSE': 12.628133771308876, 'Time taken': 0.0748741626739502}\n"
     ]
    },
    {
     "name": "stderr",
     "output_type": "stream",
     "text": [
      " 29%|██▊       | 12/42 [00:00<00:02, 14.22it/s]"
     ]
    },
    {
     "name": "stdout",
     "output_type": "stream",
     "text": [
      "{'Model': 'GradientBoostingRegressor', 'R-Squared': -0.018815190482991406, 'Adjusted R-Squared': -0.13201687831443487, 'RMSE': 3.7577925222247464, 'Time taken': 0.12923765182495117}\n"
     ]
    },
    {
     "name": "stderr",
     "output_type": "stream",
     "text": [
      " 48%|████▊     | 20/42 [00:01<00:01, 11.95it/s]"
     ]
    },
    {
     "name": "stdout",
     "output_type": "stream",
     "text": [
      "{'Model': 'HistGradientBoostingRegressor', 'R-Squared': -0.008889723228129753, 'Adjusted R-Squared': -0.12098858136458857, 'RMSE': 3.739443202033164, 'Time taken': 0.7013707160949707}\n",
      "{'Model': 'HuberRegressor', 'R-Squared': 0.09390294432839141, 'Adjusted R-Squared': -0.006774506301787442, 'RMSE': 3.543826502058635, 'Time taken': 0.02600693702697754}\n",
      "{'Model': 'KNeighborsRegressor', 'R-Squared': 0.06071996857223916, 'Adjusted R-Squared': -0.04364447936417881, 'RMSE': 3.608133823015276, 'Time taken': 0.020943880081176758}\n",
      "{'Model': 'KernelRidge', 'R-Squared': -47.16598841340872, 'Adjusted R-Squared': -52.517764903787466, 'RMSE': 25.837787997814534, 'Time taken': 0.03224825859069824}\n",
      "{'Model': 'Lars', 'R-Squared': -18510.819961703302, 'Adjusted R-Squared': -20567.688846337005, 'RMSE': 506.53522374514785, 'Time taken': 0.013966560363769531}\n",
      "{'Model': 'LarsCV', 'R-Squared': 0.05834515869166945, 'Adjusted R-Squared': -0.046283157009256115, 'RMSE': 3.612692220043092, 'Time taken': 0.022467851638793945}\n",
      "{'Model': 'Lasso', 'R-Squared': 0.04871063951009258, 'Adjusted R-Squared': -0.05698817832211933, 'RMSE': 3.6311267742605526, 'Time taken': 0.006984710693359375}\n",
      "{'Model': 'LassoCV', 'R-Squared': 0.08689513302089225, 'Adjusted R-Squared': -0.014560963310119801, 'RMSE': 3.557504194884343, 'Time taken': 0.05939006805419922}\n",
      "{'Model': 'LassoLars', 'R-Squared': -0.002806179757577132, 'Adjusted R-Squared': -0.1142290886195303, 'RMSE': 3.7281518475838915, 'Time taken': 0.007071733474731445}\n",
      "{'Model': 'LassoLarsCV', 'R-Squared': 0.09206959930019021, 'Adjusted R-Squared': -0.00881155633312214, 'RMSE': 3.547409878439209, 'Time taken': 0.025525808334350586}\n",
      "{'Model': 'LassoLarsIC', 'R-Squared': 0.0831376278265904, 'Adjusted R-Squared': -0.018735969081566273, 'RMSE': 3.5648163981466103, 'Time taken': 0.010046243667602539}\n",
      "{'Model': 'LinearRegression', 'R-Squared': 0.09206959930018976, 'Adjusted R-Squared': -0.008811556333122583, 'RMSE': 3.54740987843921, 'Time taken': 0.009589672088623047}\n",
      "{'Model': 'LinearSVR', 'R-Squared': 0.0206702759430637, 'Adjusted R-Squared': -0.08814413784104036, 'RMSE': 3.684253969616229, 'Time taken': 0.009977579116821289}\n"
     ]
    },
    {
     "name": "stderr",
     "output_type": "stream",
     "text": [
      " 62%|██████▏   | 26/42 [00:02<00:01, 11.17it/s]"
     ]
    },
    {
     "name": "stdout",
     "output_type": "stream",
     "text": [
      "{'Model': 'MLPRegressor', 'R-Squared': -4.5128461637689385, 'Adjusted R-Squared': -5.125384626409932, 'RMSE': 8.741239686975373, 'Time taken': 0.5176196098327637}\n",
      "{'Model': 'NuSVR', 'R-Squared': 0.2019479716983723, 'Adjusted R-Squared': 0.11327552410930253, 'RMSE': 3.3258349657661386, 'Time taken': 0.027965784072875977}\n",
      "{'Model': 'OrthogonalMatchingPursuit', 'R-Squared': 0.05192073451667767, 'Adjusted R-Squared': -0.05342140609258039, 'RMSE': 3.624995037453435, 'Time taken': 0.007964134216308594}\n",
      "{'Model': 'OrthogonalMatchingPursuitCV', 'R-Squared': 0.027334969473655546, 'Adjusted R-Squared': -0.08073892280704942, 'RMSE': 3.6716962267105564, 'Time taken': 0.01155543327331543}\n",
      "{'Model': 'PassiveAggressiveRegressor', 'R-Squared': -0.5449049325190396, 'Adjusted R-Squared': -0.7165610361322663, 'RMSE': 4.6273885958368535, 'Time taken': 0.007571220397949219}\n",
      "{'Model': 'PoissonRegressor', 'R-Squared': 0.03780437152525462, 'Adjusted R-Squared': -0.06910625386082825, 'RMSE': 3.6518823838383887, 'Time taken': 0.014523983001708984}\n"
     ]
    },
    {
     "name": "stderr",
     "output_type": "stream",
     "text": [
      " 79%|███████▊  | 33/42 [00:12<00:05,  1.54it/s]"
     ]
    },
    {
     "name": "stdout",
     "output_type": "stream",
     "text": [
      "{'Model': 'QuantileRegressor', 'R-Squared': -0.00349514064855061, 'Adjusted R-Squared': -0.11499460072061174, 'RMSE': 3.7294323092783626, 'Time taken': 9.94324803352356}\n",
      "{'Model': 'RANSACRegressor', 'R-Squared': -0.8751913106089879, 'Adjusted R-Squared': -1.0835459006766532, 'RMSE': 5.098094518134029, 'Time taken': 0.10663890838623047}\n"
     ]
    },
    {
     "name": "stderr",
     "output_type": "stream",
     "text": [
      " 83%|████████▎ | 35/42 [00:12<00:03,  1.79it/s]"
     ]
    },
    {
     "name": "stdout",
     "output_type": "stream",
     "text": [
      "{'Model': 'RandomForestRegressor', 'R-Squared': 0.02073600619187943, 'Adjusted R-Squared': -0.0880711042312452, 'RMSE': 3.6841303284217846, 'Time taken': 0.3674442768096924}\n",
      "{'Model': 'Ridge', 'R-Squared': 0.08805900088193719, 'Adjusted R-Squared': -0.01326777679784752, 'RMSE': 3.5552362270002384, 'Time taken': 0.007584571838378906}\n",
      "{'Model': 'RidgeCV', 'R-Squared': 0.088059000882309, 'Adjusted R-Squared': -0.013267776797434516, 'RMSE': 3.5552362269995137, 'Time taken': 0.008014917373657227}\n",
      "{'Model': 'SGDRegressor', 'R-Squared': 0.04669762491358265, 'Adjusted R-Squared': -0.05922486120713044, 'RMSE': 3.6349666408093237, 'Time taken': 0.008939027786254883}\n",
      "{'Model': 'SVR', 'R-Squared': 0.20862727791736202, 'Adjusted R-Squared': 0.12069697546373559, 'RMSE': 3.3118879137157013, 'Time taken': 0.04217815399169922}\n",
      "{'Model': 'TransformedTargetRegressor', 'R-Squared': 0.09206959930018976, 'Adjusted R-Squared': -0.008811556333122583, 'RMSE': 3.54740987843921, 'Time taken': 0.008536815643310547}\n",
      "{'Model': 'TweedieRegressor', 'R-Squared': 0.06149549647542096, 'Adjusted R-Squared': -0.04278278169397676, 'RMSE': 3.60664396578594, 'Time taken': 0.013540267944335938}\n"
     ]
    },
    {
     "name": "stderr",
     "output_type": "stream",
     "text": [
      "100%|██████████| 42/42 [00:13<00:00,  3.20it/s]"
     ]
    },
    {
     "name": "stdout",
     "output_type": "stream",
     "text": [
      "{'Model': 'XGBRegressor', 'R-Squared': -0.02799637578368519, 'Adjusted R-Squared': -0.14221819531520574, 'RMSE': 3.77468646458024, 'Time taken': 0.1538999080657959}\n",
      "{'Model': 'LGBMRegressor', 'R-Squared': -0.001438603085229584, 'Adjusted R-Squared': -0.11270955898358848, 'RMSE': 3.72560884721756, 'Time taken': 0.15399909019470215}\n",
      "                               Adjusted R-Squared  R-Squared   RMSE  \\\n",
      "Model                                                                 \n",
      "SVR                                          0.12       0.21   3.31   \n",
      "NuSVR                                        0.11       0.20   3.33   \n",
      "HuberRegressor                              -0.01       0.09   3.54   \n",
      "ElasticNet                                  -0.01       0.09   3.54   \n",
      "LassoLarsCV                                 -0.01       0.09   3.55   \n",
      "LinearRegression                            -0.01       0.09   3.55   \n",
      "TransformedTargetRegressor                  -0.01       0.09   3.55   \n",
      "RidgeCV                                     -0.01       0.09   3.56   \n",
      "Ridge                                       -0.01       0.09   3.56   \n",
      "ExtraTreesRegressor                         -0.01       0.09   3.56   \n",
      "LassoCV                                     -0.01       0.09   3.56   \n",
      "ElasticNetCV                                -0.02       0.09   3.56   \n",
      "LassoLarsIC                                 -0.02       0.08   3.56   \n",
      "TweedieRegressor                            -0.04       0.06   3.61   \n",
      "KNeighborsRegressor                         -0.04       0.06   3.61   \n",
      "LarsCV                                      -0.05       0.06   3.61   \n",
      "GammaRegressor                              -0.05       0.06   3.61   \n",
      "OrthogonalMatchingPursuit                   -0.05       0.05   3.62   \n",
      "Lasso                                       -0.06       0.05   3.63   \n",
      "BayesianRidge                               -0.06       0.05   3.63   \n",
      "SGDRegressor                                -0.06       0.05   3.63   \n",
      "PoissonRegressor                            -0.07       0.04   3.65   \n",
      "AdaBoostRegressor                           -0.08       0.03   3.67   \n",
      "OrthogonalMatchingPursuitCV                 -0.08       0.03   3.67   \n",
      "RandomForestRegressor                       -0.09       0.02   3.68   \n",
      "LinearSVR                                   -0.09       0.02   3.68   \n",
      "LGBMRegressor                               -0.11      -0.00   3.73   \n",
      "LassoLars                                   -0.11      -0.00   3.73   \n",
      "DummyRegressor                              -0.11      -0.00   3.73   \n",
      "QuantileRegressor                           -0.11      -0.00   3.73   \n",
      "HistGradientBoostingRegressor               -0.12      -0.01   3.74   \n",
      "GradientBoostingRegressor                   -0.13      -0.02   3.76   \n",
      "XGBRegressor                                -0.14      -0.03   3.77   \n",
      "BaggingRegressor                            -0.16      -0.05   3.81   \n",
      "ExtraTreeRegressor                          -0.50      -0.35   4.33   \n",
      "DecisionTreeRegressor                       -0.61      -0.45   4.48   \n",
      "PassiveAggressiveRegressor                  -0.72      -0.54   4.63   \n",
      "RANSACRegressor                             -1.08      -0.88   5.10   \n",
      "MLPRegressor                                -5.13      -4.51   8.74   \n",
      "GaussianProcessRegressor                   -11.78     -10.51  12.63   \n",
      "KernelRidge                                -52.52     -47.17  25.84   \n",
      "Lars                                    -20567.69  -18510.82 506.54   \n",
      "\n",
      "                               Time Taken  \n",
      "Model                                      \n",
      "SVR                                  0.04  \n",
      "NuSVR                                0.03  \n",
      "HuberRegressor                       0.03  \n",
      "ElasticNet                           0.01  \n",
      "LassoLarsCV                          0.03  \n",
      "LinearRegression                     0.01  \n",
      "TransformedTargetRegressor           0.01  \n",
      "RidgeCV                              0.01  \n",
      "Ridge                                0.01  \n",
      "ExtraTreesRegressor                  0.24  \n",
      "LassoCV                              0.06  \n",
      "ElasticNetCV                         0.06  \n",
      "LassoLarsIC                          0.01  \n",
      "TweedieRegressor                     0.01  \n",
      "KNeighborsRegressor                  0.02  \n",
      "LarsCV                               0.02  \n",
      "GammaRegressor                       0.02  \n",
      "OrthogonalMatchingPursuit            0.01  \n",
      "Lasso                                0.01  \n",
      "BayesianRidge                        0.01  \n",
      "SGDRegressor                         0.01  \n",
      "PoissonRegressor                     0.01  \n",
      "AdaBoostRegressor                    0.14  \n",
      "OrthogonalMatchingPursuitCV          0.01  \n",
      "RandomForestRegressor                0.37  \n",
      "LinearSVR                            0.01  \n",
      "LGBMRegressor                        0.15  \n",
      "LassoLars                            0.01  \n",
      "DummyRegressor                       0.01  \n",
      "QuantileRegressor                    9.94  \n",
      "HistGradientBoostingRegressor        0.70  \n",
      "GradientBoostingRegressor            0.13  \n",
      "XGBRegressor                         0.15  \n",
      "BaggingRegressor                     0.05  \n",
      "ExtraTreeRegressor                   0.01  \n",
      "DecisionTreeRegressor                0.01  \n",
      "PassiveAggressiveRegressor           0.01  \n",
      "RANSACRegressor                      0.11  \n",
      "MLPRegressor                         0.52  \n",
      "GaussianProcessRegressor             0.07  \n",
      "KernelRidge                          0.03  \n",
      "Lars                                 0.01  \n"
     ]
    },
    {
     "name": "stderr",
     "output_type": "stream",
     "text": [
      "\n"
     ]
    }
   ],
   "source": [
    "test_set(\"datasets/Admission and Test Scores/ADM_2015-2021_data.csv\", 'actcm75', div_by_student=False, div_by_expense=False)"
   ]
  },
  {
   "cell_type": "code",
   "execution_count": 332,
   "metadata": {},
   "outputs": [],
   "source": [
    "from lazypredict.Supervised import LazyRegressor"
   ]
  },
  {
   "cell_type": "code",
   "execution_count": 344,
   "metadata": {},
   "outputs": [
    {
     "name": "stderr",
     "output_type": "stream",
     "text": [
      " 24%|██▍       | 10/42 [00:00<00:02, 11.80it/s]"
     ]
    },
    {
     "name": "stdout",
     "output_type": "stream",
     "text": [
      "GammaRegressor model failed to execute\n",
      "Some value(s) of y are out of the valid range of the loss 'HalfGammaLoss'.\n"
     ]
    },
    {
     "name": "stderr",
     "output_type": "stream",
     "text": [
      "100%|██████████| 42/42 [01:42<00:00,  2.43s/it]"
     ]
    },
    {
     "name": "stdout",
     "output_type": "stream",
     "text": [
      "                               Adjusted R-Squared  R-Squared     RMSE  \\\n",
      "Model                                                                   \n",
      "ExtraTreesRegressor                          0.02       0.06   777.81   \n",
      "MLPRegressor                                -0.06      -0.01   808.98   \n",
      "KNeighborsRegressor                         -0.20      -0.14   859.60   \n",
      "PassiveAggressiveRegressor                  -0.31      -0.25   897.80   \n",
      "SVR                                         -0.31      -0.25   897.83   \n",
      "LinearSVR                                   -0.32      -0.26   902.39   \n",
      "QuantileRegressor                           -0.38      -0.32   923.15   \n",
      "HuberRegressor                              -0.44      -0.37   942.14   \n",
      "LGBMRegressor                               -0.46      -0.40   949.89   \n",
      "HistGradientBoostingRegressor               -0.48      -0.41   955.60   \n",
      "NuSVR                                       -0.54      -0.47   975.54   \n",
      "PoissonRegressor                            -0.56      -0.48   979.55   \n",
      "DummyRegressor                              -0.97      -0.88  1101.40   \n",
      "TweedieRegressor                            -1.14      -1.04  1148.72   \n",
      "LarsCV                                      -1.25      -1.14  1177.15   \n",
      "LassoLarsCV                                 -1.25      -1.14  1177.15   \n",
      "ElasticNet                                  -1.26      -1.16  1181.04   \n",
      "LinearRegression                            -1.26      -1.16  1181.33   \n",
      "TransformedTargetRegressor                  -1.26      -1.16  1181.33   \n",
      "Lars                                        -1.26      -1.16  1181.33   \n",
      "Ridge                                       -1.26      -1.16  1181.63   \n",
      "Lasso                                       -1.27      -1.17  1183.42   \n",
      "RidgeCV                                     -1.27      -1.17  1183.81   \n",
      "SGDRegressor                                -1.27      -1.17  1184.24   \n",
      "LassoCV                                     -1.30      -1.19  1190.36   \n",
      "BayesianRidge                               -1.30      -1.19  1190.48   \n",
      "LassoLars                                   -1.30      -1.19  1190.81   \n",
      "ElasticNetCV                                -1.31      -1.20  1192.55   \n",
      "LassoLarsIC                                 -1.32      -1.21  1195.47   \n",
      "OrthogonalMatchingPursuitCV                 -1.51      -1.40  1245.02   \n",
      "KernelRidge                                 -1.53      -1.41  1249.00   \n",
      "OrthogonalMatchingPursuit                   -2.04      -1.90  1369.24   \n",
      "ExtraTreeRegressor                          -2.73      -2.56  1516.84   \n",
      "BaggingRegressor                            -2.80      -2.63  1531.45   \n",
      "RANSACRegressor                             -2.99      -2.81  1568.47   \n",
      "RandomForestRegressor                       -3.06      -2.87  1582.18   \n",
      "GradientBoostingRegressor                   -6.32      -5.98  2123.85   \n",
      "XGBRegressor                                -7.86      -7.45  2337.16   \n",
      "AdaBoostRegressor                           -8.80      -8.35  2458.19   \n",
      "DecisionTreeRegressor                       -9.07      -8.61  2491.73   \n",
      "GaussianProcessRegressor                 -3957.88   -3776.44 49404.71   \n",
      "\n",
      "                               Time Taken  \n",
      "Model                                      \n",
      "ExtraTreesRegressor                  0.44  \n",
      "MLPRegressor                         1.15  \n",
      "KNeighborsRegressor                  0.03  \n",
      "PassiveAggressiveRegressor           0.01  \n",
      "SVR                                  0.16  \n",
      "LinearSVR                            0.01  \n",
      "QuantileRegressor                   96.37  \n",
      "HuberRegressor                       0.05  \n",
      "LGBMRegressor                        0.22  \n",
      "HistGradientBoostingRegressor        1.09  \n",
      "NuSVR                                0.11  \n",
      "PoissonRegressor                     0.04  \n",
      "DummyRegressor                       0.01  \n",
      "TweedieRegressor                     0.02  \n",
      "LarsCV                               0.02  \n",
      "LassoLarsCV                          0.03  \n",
      "ElasticNet                           0.01  \n",
      "LinearRegression                     0.01  \n",
      "TransformedTargetRegressor           0.01  \n",
      "Lars                                 0.01  \n",
      "Ridge                                0.01  \n",
      "Lasso                                0.01  \n",
      "RidgeCV                              0.01  \n",
      "SGDRegressor                         0.01  \n",
      "LassoCV                              0.06  \n",
      "BayesianRidge                        0.01  \n",
      "LassoLars                            0.01  \n",
      "ElasticNetCV                         0.06  \n",
      "LassoLarsIC                          0.02  \n",
      "OrthogonalMatchingPursuitCV          0.02  \n",
      "KernelRidge                          0.10  \n",
      "OrthogonalMatchingPursuit            0.01  \n",
      "ExtraTreeRegressor                   0.01  \n",
      "BaggingRegressor                     0.10  \n",
      "RANSACRegressor                      0.15  \n",
      "RandomForestRegressor                0.80  \n",
      "GradientBoostingRegressor            0.28  \n",
      "XGBRegressor                         0.20  \n",
      "AdaBoostRegressor                    0.10  \n",
      "DecisionTreeRegressor                0.02  \n",
      "GaussianProcessRegressor             0.23  \n"
     ]
    },
    {
     "name": "stderr",
     "output_type": "stream",
     "text": [
      "\n"
     ]
    }
   ],
   "source": []
  },
  {
   "cell_type": "markdown",
   "metadata": {},
   "source": []
  }
 ],
 "metadata": {
  "kernelspec": {
   "display_name": "Python 3.10.8 64-bit (microsoft store)",
   "language": "python",
   "name": "python3"
  },
  "language_info": {
   "codemirror_mode": {
    "name": "ipython",
    "version": 3
   },
   "file_extension": ".py",
   "mimetype": "text/x-python",
   "name": "python",
   "nbconvert_exporter": "python",
   "pygments_lexer": "ipython3",
   "version": "3.10.8"
  },
  "orig_nbformat": 4,
  "vscode": {
   "interpreter": {
    "hash": "39e3f26245d4e4c77fbded36ef9fcfab8d6b16b727ecaf20aee6abd83b69e71a"
   }
  }
 },
 "nbformat": 4,
 "nbformat_minor": 2
}
