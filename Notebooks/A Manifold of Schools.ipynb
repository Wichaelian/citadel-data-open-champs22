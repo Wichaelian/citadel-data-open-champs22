{
 "cells": [
  {
   "cell_type": "code",
   "execution_count": 1,
   "metadata": {},
   "outputs": [],
   "source": [
    "import pandas as pd\n",
    "import matplotlib.pyplot as plt\n",
    "import numpy as np\n",
    "from scipy import stats\n",
    "import seaborn as sns\n",
    "from sklearn.neighbors import NearestNeighbors"
   ]
  },
  {
   "cell_type": "code",
   "execution_count": 146,
   "metadata": {},
   "outputs": [],
   "source": [
    "from scipy.special import softmax\n",
    "from sklearn.neighbors import NearestNeighbors\n",
    "import numpy as np\n",
    "import pandas as pd\n",
    "\n",
    "class SchoolManifold():\n",
    "\n",
    "    def __init__(self, embeddings_df: pd.DataFrame, k = 15):\n",
    "        self.embeddings_df = embeddings_df\n",
    "        self.embeddings = embeddings_df.iloc[:, 1:]\n",
    "        self.k = k\n",
    "\n",
    "    \n",
    "    def _compute_neighbors(self, k: int):\n",
    "        knn = NearestNeighbors(n_neighbors = k, algorithm=\"auto\")\n",
    "        knn.fit(self.embeddings.values)\n",
    "        dists, indices = knn.kneighbors(self.embeddings.values)\n",
    "        self.neighbor_dists = dists\n",
    "        self.neighbor_indices = indices\n",
    "\n",
    "\n",
    "    def preprocess_for_target(self, target_df: pd.DataFrame, target_col_ind: int = None, target_col_lab = None):\n",
    "        if (target_col_ind is not None):\n",
    "            target_col_lab = target_df.columns[target_col_ind]\n",
    "\n",
    "        if (target_col_lab is None):\n",
    "            raise ValueError(\"Either target_col_ind or target_col_lab must not be None\")\n",
    "\n",
    "        merged = pd.merge(self.embeddings_df, target_df, how= \"inner\", on = \"unitid\")\n",
    "        \n",
    "        self.embeddings = merged[self.embeddings.columns]\n",
    "        self._compute_neighbors(self.k)\n",
    "\n",
    "        self.target_df = merged[target_df.columns]\n",
    "        self.features = self.target_df.drop(labels = [\"unitid\", target_col_lab], axis = 1)\n",
    "        orig_columns = self.features.columns\n",
    "        self.target = self.target_df[target_col_lab]\n",
    "        self.schools = self.target_df[\"unitid\"]\n",
    "\n",
    "        inds_of_target_in_original = merged.index.values\n",
    "        neighbor_inds_of_target_in_original = self.neighbor_indices[inds_of_target_in_original]\n",
    "        neighbor_dists_of_target_col = self.neighbor_dists[inds_of_target_in_original]\n",
    "\n",
    "        vals_of_target_col = merged[target_col_lab].values\n",
    "        neighbor_vals_of_target_col =  vals_of_target_col[neighbor_inds_of_target_in_original]\n",
    "        \n",
    "        features_of_target_col = merged[orig_columns].values\n",
    "        neighbor_features_of_target_col = features_of_target_col[neighbor_inds_of_target_in_original]\n",
    "\n",
    "        mask = neighbor_vals_of_target_col > vals_of_target_col.reshape(-1, 1)\n",
    "        neighbor_weights_of_target_col = np.where(mask, neighbor_dists_of_target_col, np.PINF)\n",
    "        neighbor_weights_of_target_col = softmax(-neighbor_weights_of_target_col, axis = 1)\n",
    "\n",
    "        self.mask = mask\n",
    "        self.v_star = (neighbor_vals_of_target_col * neighbor_weights_of_target_col).sum(axis = 1)\n",
    "        self.weights =  neighbor_weights_of_target_col\n",
    "        self.neighbor_features = neighbor_features_of_target_col\n",
    "        self.neighbor_target = neighbor_vals_of_target_col\n",
    "        \n",
    "        \n",
    "        self.v_star = np.where(np.isnan(self.v_star), self.target.values, self.v_star)\n",
    "    \n",
    "\n",
    "    def compute_deltas(self, reg, mode = \"projection\"):\n",
    "        self.reg = reg\n",
    "        self.adjusted_features = np.sum(self.neighbor_features * self.weights[:, :, None], axis = 1)\n",
    "        self.adjusted_features = np.where(np.isnan(self.adjusted_features), self.features.values, self.adjusted_features)\n",
    "        self.deltas = self.adjusted_features - self.features.values\n",
    "\n",
    "        self.adjusted_features_df = pd.DataFrame(self.adjusted_features, columns = self.features.columns)\n",
    "\n",
    "\n"
   ]
  },
  {
   "cell_type": "markdown",
   "metadata": {},
   "source": [
    "### Yield Efficiency"
   ]
  },
  {
   "cell_type": "code",
   "execution_count": 181,
   "metadata": {},
   "outputs": [],
   "source": [
    "ic_mca = pd.read_csv(\"../datasets/Clusters/IC_CLUSTERS_AND_MCA.csv\")\n",
    "ic_mca = ic_mca.loc[:, ic_mca.columns != \"ic_cluster\"]\n",
    "\n",
    "yield_efficiency = pd.read_csv(\"../datasets/Target Features/autofeature_per_dollar_expense.csv\", index_col=0)"
   ]
  },
  {
   "cell_type": "code",
   "execution_count": 184,
   "metadata": {},
   "outputs": [],
   "source": [
    "yield_efficiency.drop(\"Total expenses\", axis = 1, inplace= True)"
   ]
  },
  {
   "cell_type": "code",
   "execution_count": 185,
   "metadata": {},
   "outputs": [],
   "source": [
    "manifold = SchoolManifold(ic_mca)"
   ]
  },
  {
   "cell_type": "code",
   "execution_count": 186,
   "metadata": {},
   "outputs": [
    {
     "name": "stderr",
     "output_type": "stream",
     "text": [
      "/home/acowlagi/.conda/envs/datathon/lib/python3.9/site-packages/scipy/special/_logsumexp.py:214: RuntimeWarning: invalid value encountered in subtract\n",
      "  return np.exp(x - logsumexp(x, axis=axis, keepdims=True))\n"
     ]
    }
   ],
   "source": [
    "manifold.preprocess_for_target(yield_efficiency, target_col_lab=\"log_yield_per_dollar\")"
   ]
  },
  {
   "cell_type": "markdown",
   "metadata": {},
   "source": [
    "### Testing Area"
   ]
  },
  {
   "cell_type": "code",
   "execution_count": 23,
   "metadata": {},
   "outputs": [],
   "source": [
    "manifold = SchoolManifold(ic_mca)"
   ]
  },
  {
   "cell_type": "code",
   "execution_count": 76,
   "metadata": {},
   "outputs": [
    {
     "data": {
      "text/plain": [
       "array([[6304, 6035, 5222, 6275, 5733, 5732, 6727, 5762, 6573, 6117],\n",
       "       [1133, 1782, 1345, 3417, 1978, 1757, 3500, 1455,  543,  763]])"
      ]
     },
     "execution_count": 76,
     "metadata": {},
     "output_type": "execute_result"
    }
   ],
   "source": [
    "manifold.neighbor_indices[[2,3]]"
   ]
  },
  {
   "cell_type": "code",
   "execution_count": 86,
   "metadata": {},
   "outputs": [
    {
     "data": {
      "text/plain": [
       "array([[-inf, -inf,  -3.],\n",
       "       [-inf, -inf,  -4.],\n",
       "       [-inf, -inf,  -5.],\n",
       "       [-inf, -inf,  -6.]])"
      ]
     },
     "execution_count": 86,
     "metadata": {},
     "output_type": "execute_result"
    }
   ],
   "source": [
    "test = np.array([[1,2, 3], [2,3, 4], [3,4, 5], [4, 5, 6]])\n",
    "mask = test > np.array([2, 3, 4, 5]).reshape(-1, 1)\n",
    "\n",
    "altered_test = np.where(mask, test, np.PINF)\n",
    "softmax(-altered_test, axis = 1)"
   ]
  },
  {
   "cell_type": "code",
   "execution_count": 87,
   "metadata": {},
   "outputs": [],
   "source": [
    "df = pd.DataFrame(np.random.randn(50, 1), columns=list('A'))\n",
    "df[\"E\"] = 2*np.arange(0, 50)\n",
    "df2 = pd.DataFrame(np.random.randn(100, 1), columns=list('B'))\n",
    "df2 = pd.DataFrame(np.random.randn(100, 1), columns=list('B'))"
   ]
  },
  {
   "cell_type": "code",
   "execution_count": 74,
   "metadata": {},
   "outputs": [],
   "source": [
    "df3 = pd.merge(df2.reset_index(), df,  how=\"right\", on = \"E\").set_index('index')\n",
    "df3"
   ]
  },
  {
   "cell_type": "code",
   "execution_count": 7,
   "metadata": {},
   "outputs": [],
   "source": [
    "neighbor_values = np.arange(24).reshape(4, 3, 2)\n",
    "weights = np.array([[0.3, 0.3, 0.4], [0.9, 0.1, 0], [0.6, 0.2, 0.2], [0, 0, 1]])"
   ]
  },
  {
   "cell_type": "code",
   "execution_count": 13,
   "metadata": {},
   "outputs": [
    {
     "data": {
      "text/plain": [
       "array([[ 2.2,  3.2],\n",
       "       [ 6.2,  7.2],\n",
       "       [13.2, 14.2],\n",
       "       [22. , 23. ]])"
      ]
     },
     "execution_count": 13,
     "metadata": {},
     "output_type": "execute_result"
    }
   ],
   "source": [
    "np.sum(neighbor_values * weights[:, :, None], axis = 1)"
   ]
  },
  {
   "cell_type": "code",
   "execution_count": 12,
   "metadata": {},
   "outputs": [
    {
     "data": {
      "text/plain": [
       "array([[[ 0,  1],\n",
       "        [ 2,  3],\n",
       "        [ 4,  5]],\n",
       "\n",
       "       [[ 6,  7],\n",
       "        [ 8,  9],\n",
       "        [10, 11]],\n",
       "\n",
       "       [[12, 13],\n",
       "        [14, 15],\n",
       "        [16, 17]],\n",
       "\n",
       "       [[18, 19],\n",
       "        [20, 21],\n",
       "        [22, 23]]])"
      ]
     },
     "execution_count": 12,
     "metadata": {},
     "output_type": "execute_result"
    }
   ],
   "source": [
    "neighbor_values"
   ]
  },
  {
   "cell_type": "code",
   "execution_count": null,
   "metadata": {},
   "outputs": [],
   "source": []
  }
 ],
 "metadata": {
  "kernelspec": {
   "display_name": "Python 3.9.12 ('datathon')",
   "language": "python",
   "name": "python3"
  },
  "language_info": {
   "codemirror_mode": {
    "name": "ipython",
    "version": 3
   },
   "file_extension": ".py",
   "mimetype": "text/x-python",
   "name": "python",
   "nbconvert_exporter": "python",
   "pygments_lexer": "ipython3",
   "version": "3.9.12"
  },
  "orig_nbformat": 4,
  "vscode": {
   "interpreter": {
    "hash": "85a5ebb2ed1e550f6f49a4cd3da2f0b49e90e80d5a5db0ad91572248b78b6a0e"
   }
  }
 },
 "nbformat": 4,
 "nbformat_minor": 2
}
