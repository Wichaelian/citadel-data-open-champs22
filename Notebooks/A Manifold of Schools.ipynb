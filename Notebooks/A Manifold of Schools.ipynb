{
 "cells": [
  {
   "cell_type": "code",
   "execution_count": 2,
   "metadata": {},
   "outputs": [],
   "source": [
    "import pandas as pd\n",
    "import matplotlib.pyplot as plt\n",
    "import numpy as np\n",
    "from scipy import stats\n",
    "import seaborn as sns\n",
    "from sklearn.neighbors import NearestNeighbors"
   ]
  },
  {
   "cell_type": "code",
   "execution_count": 12,
   "metadata": {},
   "outputs": [],
   "source": [
    "from scipy.special import softmax\n",
    "from sklearn.neighbors import NearestNeighbors\n",
    "import numpy as np\n",
    "import pandas as pd\n",
    "\n",
    "class SchoolManifold():\n",
    "\n",
    "    def __init__(self, embeddings_df: pd.DataFrame, k = 10, weight_mode = \"softmax\"):\n",
    "        self.embeddings_df = embeddings_df\n",
    "        self.embeddings = embeddings_df.iloc[:, 1:]\n",
    "        self.k = k\n",
    "        self._compute_neighbors(k, weight_mode=weight_mode) \n",
    "    \n",
    "    def _compute_neighbors(self, k: int):\n",
    "        knn = NearestNeighbors(n_neighbors = k, algorithm=\"auto\")\n",
    "        knn.fit(self.embeddings.values)\n",
    "        dists, indices = knn.kneighbors()\n",
    "        self.neighbor_dists = dists\n",
    "        self.neighbor_indices = indices\n",
    "\n",
    "\n",
    "    def preprocess_for_target(self, target_df: pd.DataFrame, target_col_ind: int = None, target_col_lab = None):\n",
    "        if (target_col_ind is not None):\n",
    "            target_col_lab = target_df.columns[target_col_ind]\n",
    "\n",
    "        if (target_col_lab is None):\n",
    "            raise ValueError(\"Either target_col_ind or target_col_lab must not be None\")\n",
    "\n",
    "        self.target_df = target_df\n",
    "        self.target_X = target_df.drop(labels = [\"unitid\", target_col_lab], axis = 1)\n",
    "        self.target_y = target_df[target_col_lab]\n",
    "\n",
    "        merged = pd.merge(self.embeddings_df.reset_index(), target_df, how= \"right\", on = \"unitid\").set_index('index')\n",
    "        inds_of_target_in_original = merged.index.values\n",
    "        neighbor_inds_of_target_in_original = self.neighbor_indices[inds_of_target_in_original]\n",
    "        neighbor_dists_of_target_col = self.neighbor_dists[inds_of_target_in_original]\n",
    "\n",
    "        vals_of_target_col = merged[target_col_lab].values\n",
    "        neighbor_vals_of_target_col =  vals_of_target_col[neighbor_inds_of_target_in_original]\n",
    "\n",
    "        mask = neighbor_vals_of_target_col > vals_of_target_col.reshape(-1, 1)\n",
    "        neighbor_weights_of_target_col = np.where(mask, neighbor_dists_of_target_col, np.PINF)\n",
    "        neighbor_weights_of_target_col = softmax(-neighbor_weights_of_target_col, axis = 1)\n",
    "\n",
    "        self.v_star = (neighbor_dists_of_target_col * neighbor_weights_of_target_col).sum(axis = 1)\n"
   ]
  },
  {
   "cell_type": "code",
   "execution_count": 13,
   "metadata": {},
   "outputs": [],
   "source": [
    "ic_mca = pd.read_csv(\"../datasets/Clusters/IC_CLUSTERS_AND_MCA.csv\",index_col= 0)\n",
    "ic_mca = ic_mca.loc[:, ic_mca.columns != \"ic_cluster\"]"
   ]
  },
  {
   "cell_type": "markdown",
   "metadata": {},
   "source": [
    "### Testing Area"
   ]
  },
  {
   "cell_type": "code",
   "execution_count": 23,
   "metadata": {},
   "outputs": [],
   "source": [
    "manifold = SchoolManifold(ic_mca)"
   ]
  },
  {
   "cell_type": "code",
   "execution_count": 76,
   "metadata": {},
   "outputs": [
    {
     "data": {
      "text/plain": [
       "array([[6304, 6035, 5222, 6275, 5733, 5732, 6727, 5762, 6573, 6117],\n",
       "       [1133, 1782, 1345, 3417, 1978, 1757, 3500, 1455,  543,  763]])"
      ]
     },
     "execution_count": 76,
     "metadata": {},
     "output_type": "execute_result"
    }
   ],
   "source": [
    "manifold.neighbor_indices[[2,3]]"
   ]
  },
  {
   "cell_type": "code",
   "execution_count": 86,
   "metadata": {},
   "outputs": [
    {
     "data": {
      "text/plain": [
       "array([[-inf, -inf,  -3.],\n",
       "       [-inf, -inf,  -4.],\n",
       "       [-inf, -inf,  -5.],\n",
       "       [-inf, -inf,  -6.]])"
      ]
     },
     "execution_count": 86,
     "metadata": {},
     "output_type": "execute_result"
    }
   ],
   "source": [
    "test = np.array([[1,2, 3], [2,3, 4], [3,4, 5], [4, 5, 6]])\n",
    "mask = test > np.array([2, 3, 4, 5]).reshape(-1, 1)\n",
    "\n",
    "altered_test = np.where(mask, test, np.PINF)\n",
    "softmax(-altered_test, axis = 1)"
   ]
  },
  {
   "cell_type": "code",
   "execution_count": 87,
   "metadata": {},
   "outputs": [],
   "source": [
    "df = pd.DataFrame(np.random.randn(50, 1), columns=list('A'))\n",
    "df[\"E\"] = 2*np.arange(0, 50)\n",
    "df2 = pd.DataFrame(np.random.randn(100, 1), columns=list('B'))\n",
    "df2 = pd.DataFrame(np.random.randn(100, 1), columns=list('B'))"
   ]
  },
  {
   "cell_type": "code",
   "execution_count": 74,
   "metadata": {},
   "outputs": [],
   "source": [
    "df3 = pd.merge(df2.reset_index(), df,  how=\"right\", on = \"E\").set_index('index')\n",
    "df3"
   ]
  },
  {
   "cell_type": "code",
   "execution_count": null,
   "metadata": {},
   "outputs": [],
   "source": []
  }
 ],
 "metadata": {
  "kernelspec": {
   "display_name": "Python 3",
   "language": "python",
   "name": "python3"
  },
  "language_info": {
   "codemirror_mode": {
    "name": "ipython",
    "version": 3
   },
   "file_extension": ".py",
   "mimetype": "text/x-python",
   "name": "python",
   "nbconvert_exporter": "python",
   "pygments_lexer": "ipython3",
   "version": "3.7.3"
  },
  "vscode": {
   "interpreter": {
    "hash": "85a5ebb2ed1e550f6f49a4cd3da2f0b49e90e80d5a5db0ad91572248b78b6a0e"
   }
  }
 },
 "nbformat": 4,
 "nbformat_minor": 2
}
